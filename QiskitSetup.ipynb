{
 "cells": [
  {
   "cell_type": "code",
   "execution_count": 1,
   "id": "46fede30-a34d-4d15-94d9-b74b12595bd3",
   "metadata": {},
   "outputs": [],
   "source": [
    "from qiskit_machine_learning.circuit.library import QNNCircuit\n",
    "from qiskit_machine_learning.connectors import TorchConnector"
   ]
  },
  {
   "cell_type": "code",
   "execution_count": 8,
   "id": "5bf8639a-bd6c-4230-8227-4703d825a768",
   "metadata": {},
   "outputs": [],
   "source": [
    "import numpy as np\n",
    "from qiskit import  QuantumCircuit, transpile\n",
    "\n",
    "from qiskit.circuit import ParameterVector\n",
    "from torchvision.datasets import MNIST\n",
    "\n",
    "from qiskit_aer import AerSimulator\n",
    "#from qiskit.utils import QuantumInstance\n",
    "from sklearn.preprocessing import MinMaxScaler\n",
    "from sklearn.decomposition import PCA"
   ]
  },
  {
   "cell_type": "code",
   "execution_count": 6,
   "id": "da526e5f-ff7e-4309-82af-ab2b3f5f89de",
   "metadata": {},
   "outputs": [],
   "source": [
    "from qiskit_aer import Aer"
   ]
  },
  {
   "cell_type": "code",
   "execution_count": 7,
   "id": "4bf129d8-fec9-44d6-bf08-70b191fbea7f",
   "metadata": {},
   "outputs": [],
   "source": [
    "from torchvision import datasets, transforms"
   ]
  },
  {
   "cell_type": "code",
   "execution_count": 10,
   "id": "fd261531-5118-4ad7-a37f-30aec00c569c",
   "metadata": {},
   "outputs": [],
   "source": [
    "import torch\n",
    "from torch import nn\n",
    "from qiskit import assemble, QuantumCircuit\n",
    "from qiskit.circuit import Parameter, ParameterVector\n",
    "from qiskit_algorithms.optimizers import COBYLA\n",
    "import qiskit_algorithms\n",
    "import matplotlib.pyplot as plt"
   ]
  },
  {
   "cell_type": "code",
   "execution_count": 11,
   "id": "ae3d3a13-3615-403d-9f93-eb9ae8fc72d6",
   "metadata": {},
   "outputs": [],
   "source": [
    "import tensorflow as tf"
   ]
  },
  {
   "cell_type": "code",
   "execution_count": null,
   "id": "e74b688a-a518-480d-ac7a-c55bdd9c8a23",
   "metadata": {},
   "outputs": [],
   "source": []
  }
 ],
 "metadata": {
  "kernelspec": {
   "display_name": "qnn_env_Kernelpython3,8",
   "language": "python",
   "name": "knlqnn"
  },
  "language_info": {
   "codemirror_mode": {
    "name": "ipython",
    "version": 3
   },
   "file_extension": ".py",
   "mimetype": "text/x-python",
   "name": "python",
   "nbconvert_exporter": "python",
   "pygments_lexer": "ipython3",
   "version": "3.8.19"
  }
 },
 "nbformat": 4,
 "nbformat_minor": 5
}
