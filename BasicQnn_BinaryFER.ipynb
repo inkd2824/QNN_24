{
 "cells": [
  {
   "cell_type": "code",
   "execution_count": 1,
   "id": "b7c10a56-3c54-4a9f-aa81-674cb5916eda",
   "metadata": {},
   "outputs": [],
   "source": [
    "# Necessary imports\n",
    "\n",
    "import numpy as np\n",
    "import matplotlib.pyplot as plt\n",
    "\n",
    "from torch import Tensor\n",
    "from torch.nn import Linear, CrossEntropyLoss, MSELoss\n",
    "from torch.optim import LBFGS\n",
    "\n",
    "from qiskit import QuantumCircuit\n",
    "from qiskit.circuit import Parameter\n",
    "from qiskit.circuit.library import RealAmplitudes, ZZFeatureMap\n",
    "from qiskit_algorithms.utils import algorithm_globals\n",
    "from qiskit_machine_learning.neural_networks import SamplerQNN, EstimatorQNN\n",
    "from qiskit_machine_learning.connectors import TorchConnector\n",
    "\n",
    "# Set seed for random generators\n",
    "algorithm_globals.random_seed = 42\n"
   ]
  },
  {
   "cell_type": "code",
   "execution_count": 2,
   "id": "447ead8d-9bd0-48be-b3c7-b25f6dc6018e",
   "metadata": {},
   "outputs": [],
   "source": [
    "import os\n",
    "import cv2\n",
    "import numpy as np\n",
    "from sklearn.model_selection import train_test_split\n",
    "from tensorflow.keras import layers, models\n",
    "from tensorflow.keras.preprocessing.image import img_to_array, array_to_img, load_img,ImageDataGenerator\n",
    "from tensorflow.keras.utils import to_categorical\n"
   ]
  },
  {
   "cell_type": "code",
   "execution_count": 3,
   "id": "61284e8e-d3c3-4925-9f39-26c15da3ab47",
   "metadata": {},
   "outputs": [],
   "source": [
    "# Additional torch-related imports\n",
    "import torch\n",
    "from torch import cat, no_grad, manual_seed\n",
    "from torch.utils.data import DataLoader\n",
    "from torchvision import datasets, transforms\n",
    "import torch.optim as optim\n",
    "from torch.nn import (\n",
    "    Module,\n",
    "    Conv2d,\n",
    "    Linear,\n",
    "    Dropout2d,\n",
    "    NLLLoss,\n",
    "    MaxPool2d,\n",
    "    Flatten,\n",
    "    Sequential,\n",
    "    ReLU,\n",
    ")\n",
    "import torch.nn.functional as F"
   ]
  },
  {
   "cell_type": "code",
   "execution_count": 4,
   "id": "28cea218-4a0c-42c1-9510-72545770de4b",
   "metadata": {},
   "outputs": [],
   "source": [
    "import matplotlib.pyplot as plt\n",
    "import numpy as np\n",
    "#from qiskit.utils import QuantumInstance\n",
    "from qiskit_aer import Aer\n",
    "from qiskit_aer import AerSimulator\n"
   ]
  },
  {
   "cell_type": "code",
   "execution_count": 5,
   "id": "3ad54e28-108e-4f73-a037-40e2424c77bc",
   "metadata": {},
   "outputs": [],
   "source": [
    "\n",
    "\n",
    "\n",
    "# Quantum computing libraries from Qiskit\n",
    "from qiskit import QuantumCircuit\n",
    "from qiskit.circuit.library import ZZFeatureMap, RealAmplitudes\n",
    "from qiskit_machine_learning.neural_networks import EstimatorQNN\n",
    "\n",
    "\n",
    "\n",
    "# Utilities and loss functions from PyTorch\n",
    "\n",
    "from torch.optim import Adam\n",
    "from torch.nn import BCELoss  # Binary Cross Entropy Loss for binary classification\n",
    "\n",
    "# Optional: for advanced metrics and visualization\n",
    "from sklearn.metrics import classification_report, confusion_matrix\n",
    "\n",
    "# Set random seed for reproducibility in Qiskit and PyTorch\n",
    "# Set seed for random generators\n",
    "from qiskit_algorithms.utils import algorithm_globals\n",
    "algorithm_globals.random_seed = 42\n",
    "#manual_seed(42)\n"
   ]
  },
  {
   "cell_type": "code",
   "execution_count": 6,
   "id": "47aee14b-9500-44fa-8b02-963463925ab4",
   "metadata": {},
   "outputs": [],
   "source": [
    "import matplotlib.pyplot as plt\n",
    "from IPython.display import display, clear_output\n",
    "import time\n",
    "import torch"
   ]
  },
  {
   "cell_type": "code",
   "execution_count": 7,
   "id": "5cd0f10e-13bf-41e3-9634-473851b9f2c6",
   "metadata": {},
   "outputs": [
    {
     "name": "stdout",
     "output_type": "stream",
     "text": [
      "['.DS_Store', 'test', 'train']\n"
     ]
    }
   ],
   "source": [
    "# Define the path to the FER2013 dataset folders\n",
    "data_dir = 'fer2013BinaryData'\n",
    "print(os.listdir(data_dir))"
   ]
  },
  {
   "cell_type": "code",
   "execution_count": 8,
   "id": "f6d3fc15-55d9-4ae6-a2b2-0c4ca84bf235",
   "metadata": {},
   "outputs": [],
   "source": [
    "# Define constants\n",
    "input_shape = (28, 28, 1)  # Grayscale images\n",
    "num_classes = 2  # Number of emotions\n",
    "\n",
    "# Define data directories\n",
    "train_data_dir = 'fer2013BinaryData/train'\n",
    "test_data_dir = 'fer2013BinaryData/test'\n"
   ]
  },
  {
   "cell_type": "code",
   "execution_count": 9,
   "id": "4a89b8fa-c849-49f2-8d3a-fb97ccd2570a",
   "metadata": {},
   "outputs": [],
   "source": [
    "# Data augmentation and normalization\n",
    "train_datagen = ImageDataGenerator(\n",
    "    rescale=1./255,\n",
    "    shear_range=0.2,\n",
    "    zoom_range=0.2,\n",
    "    horizontal_flip=True\n",
    ")"
   ]
  },
  {
   "cell_type": "code",
   "execution_count": 10,
   "id": "6c7c0adf-540c-4375-a60c-1a4ee9fdba2a",
   "metadata": {},
   "outputs": [
    {
     "name": "stdout",
     "output_type": "stream",
     "text": [
      "Found 28708 images belonging to 2 classes.\n"
     ]
    }
   ],
   "source": [
    "test_datagen = ImageDataGenerator(rescale=1./255)\n",
    "\n",
    "# Batch size\n",
    "batch_size = 200 #previously 50 \n",
    "# Load and preprocess training data\n",
    "train_generator = train_datagen.flow_from_directory(\n",
    "    train_data_dir,\n",
    "    target_size=(input_shape[0], input_shape[1]),\n",
    "    color_mode='grayscale',  # Grayscale images\n",
    "    batch_size=batch_size,\n",
    "    class_mode='binary',  # Binary classification\n",
    "    classes=['notokay', 'okay']  # Specify class names\n",
    ")"
   ]
  },
  {
   "cell_type": "code",
   "execution_count": 11,
   "id": "725811a7-8ea6-44e9-b06b-f098749babc1",
   "metadata": {},
   "outputs": [
    {
     "name": "stdout",
     "output_type": "stream",
     "text": [
      "Found 7178 images belonging to 2 classes.\n"
     ]
    }
   ],
   "source": [
    "# Load and preprocess test data\n",
    "test_generator = test_datagen.flow_from_directory(\n",
    "    test_data_dir,\n",
    "    target_size=(input_shape[0], input_shape[1]),\n",
    "    color_mode='grayscale',  # Grayscale images\n",
    "    batch_size=batch_size,\n",
    "    class_mode='binary',  # Binary classification\n",
    "    classes=['notokay', 'okay']  # Specify class names\n",
    ")\n"
   ]
  },
  {
   "cell_type": "code",
   "execution_count": 12,
   "id": "1179c29a-3e94-47a9-80b6-484e05aaa492",
   "metadata": {},
   "outputs": [
    {
     "name": "stdout",
     "output_type": "stream",
     "text": [
      "Batch Data Shape: (50, 28, 28, 1)\n",
      "Batch Labels Shape: (50,)\n",
      "Batch Labels after Loading: [1. 1. 1. 0. 1. 0. 0. 0. 1. 0. 0. 1. 1. 1. 1. 1. 0. 1. 1. 1. 0. 1. 0. 1.\n",
      " 0. 0. 1. 0. 0. 0. 1. 0. 1. 1. 0. 1. 1. 1. 1. 1. 1. 0. 1. 0. 0. 1. 1. 1.\n",
      " 0. 0.]\n"
     ]
    }
   ],
   "source": [
    "# Get one batch of training data and labels\n",
    "batch_data, batch_labels = next(train_generator)\n",
    "\n",
    "# Display the shape of the batch data and labels\n",
    "print(\"Batch Data Shape:\", batch_data.shape)\n",
    "print(\"Batch Labels Shape:\", batch_labels.shape)\n",
    "print(\"Batch Labels after Loading:\", batch_labels)"
   ]
  },
  {
   "cell_type": "code",
   "execution_count": 13,
   "id": "83173714-d4f7-4782-a5cd-6a6b3be12940",
   "metadata": {},
   "outputs": [
    {
     "name": "stdout",
     "output_type": "stream",
     "text": [
      "Unique Labels in Batch: [0. 1.]\n"
     ]
    }
   ],
   "source": [
    "print(\"Unique Labels in Batch:\", np.unique(batch_labels))"
   ]
  },
  {
   "cell_type": "code",
   "execution_count": 14,
   "id": "44679c5b-d38d-4860-8118-21f5f8d0671f",
   "metadata": {},
   "outputs": [
    {
     "data": {
      "image/png": "[encoded data removed]",
      "text/plain": [
       "<Figure size 2000x300 with 5 Axes>"
      ]
     },
     "metadata": {},
     "output_type": "display_data"
    }
   ],
   "source": [
    "\n",
    "\n",
    "# Function to display images from a batch\n",
    "def display_images(images, labels, num_images=5):\n",
    "    fig, axes = plt.subplots(1, num_images, figsize=(20, 3))\n",
    "    for i in range(num_images):\n",
    "        axes[i].imshow(images[i].squeeze(), cmap='gray')  # Assuming images are grayscale\n",
    "        axes[i].set_title(f\"Label: {labels[i]}\")  # Display the actual label directly\n",
    "        axes[i].axis('off')\n",
    "    plt.show()\n",
    "\n",
    "# Display images from the batch\n",
    "display_images(batch_data, batch_labels.flatten())  # Flatten the labels for display"
   ]
  },
  {
   "cell_type": "code",
   "execution_count": 15,
   "id": "433f0953-451f-4808-9cc9-729756415886",
   "metadata": {},
   "outputs": [],
   "source": [
    "\n",
    "# Define and create QNN\n",
    "num_qubits = 2\n",
    "def create_qnn():\n",
    "    feature_map = ZZFeatureMap(feature_dimension=num_qubits, reps=1)\n",
    "    ansatz = RealAmplitudes(num_qubits, reps=1)\n",
    "    qc = QuantumCircuit(num_qubits)\n",
    "    qc.compose(feature_map, inplace=True)\n",
    "    qc.compose(ansatz, inplace=True)\n",
    "\n",
    "    # REMEMBER TO SET input_gradients=True FOR ENABLING HYBRID GRADIENT BACKPROP\n",
    "    qnn = EstimatorQNN(\n",
    "        circuit=qc,\n",
    "        input_params=feature_map.parameters,\n",
    "        weight_params=ansatz.parameters,\n",
    "        input_gradients=True,\n",
    "    )\n",
    "    return qnn\n",
    "\n",
    "qnn = create_qnn()\n"
   ]
  },
  {
   "cell_type": "code",
   "execution_count": 16,
   "id": "138219f8-70ce-43b6-ae38-888fa8fb4805",
   "metadata": {},
   "outputs": [],
   "source": [
    "\n",
    "class HybridModel(torch.nn.Module):\n",
    "    def __init__(self, qnn):\n",
    "        super().__init__()\n",
    "        self.conv1 = Conv2d(1, 2, kernel_size=5)\n",
    "        self.conv2 = Conv2d(2, 16, kernel_size=5)\n",
    "        self.dropout = Dropout2d()\n",
    "        self.fc1 = Linear(256, 64) \n",
    "        self.fc2 = Linear(64, 2)  # 2-dimensional input to QNN\n",
    "        self.qnn = TorchConnector(qnn)  # Apply Quantum circuit HERE\n",
    "        self.fc3 = Linear(1, 1) \n",
    "\n",
    "    def forward(self, x):\n",
    "        x = F.relu(self.conv1(x))\n",
    "        x = F.max_pool2d(x, 2)\n",
    "        x = F.relu(self.conv2(x))\n",
    "        x = F.max_pool2d(x, 2)\n",
    "        x = self.dropout(x)\n",
    "       # x = x.reshape(x.shape[0], -1)\n",
    "        x = x.contiguous().reshape(x.shape[0], -1)\n",
    "        x = F.relu(self.fc1(x))\n",
    "        #print(\"After fc1:\", x.shape)\n",
    "        x = self.fc2(x)\n",
    "        #print(\"After fc2:\", x.shape)\n",
    "        x = self.qnn(x)  # apply QNN\n",
    "        #print(\"After QNN:\", x.shape)\n",
    "        x = self.fc3(x)\n",
    "        return torch.sigmoid(x)  # Use sigmoid to output probabilities\n",
    "\n",
    "\n",
    "model = HybridModel(qnn)\n",
    "\n",
    "\n",
    "\n"
   ]
  },
  {
   "cell_type": "raw",
   "id": "00a3fc39-4749-47c4-8e99-eec3fab6a350",
   "metadata": {},
   "source": [
    "class HybridModel(torch.nn.Module):\n",
    "    def __init__(self, qnn, output_size=1):\n",
    "        super(HybridModel, self).__init__()\n",
    "        self.conv1 = torch.nn.Conv2d(1, 8, kernel_size=3, padding=1)\n",
    "        self.conv2 = torch.nn.Conv2d(8, 16, kernel_size=3, stride=2)\n",
    "        self.dropout = torch.nn.Dropout(0.5)\n",
    "        self.fc1 = torch.nn.Linear(16 * 5 * 5, 16)  # Adjusted dimension\n",
    "        #self.qnn = TorchConnector(qnn)  # Hybrid quantum-classical layer\n",
    "        self.fc2 = torch.nn.Linear(16, 1)  # Adjusted for binary output\n",
    "        \n",
    "    def forward(self, x):\n",
    "        x = F.relu(self.conv1(x))\n",
    "        x = F.max_pool2d(x, 2)\n",
    "        x = F.relu(self.conv2(x))\n",
    "        x = F.max_pool2d(x, 2)\n",
    "        x = self.dropout(x)\n",
    "        x = torch.flatten(x, 1)\n",
    "        x = F.relu(self.fc1(x))\n",
    "        x = self.qnn(x)\n",
    "        x = torch.sigmoid(self.fc2(x))\n",
    "        return x\n"
   ]
  },
  {
   "cell_type": "code",
   "execution_count": 17,
   "id": "3d2c2c29-bcac-4be2-b759-b588b8adcb3c",
   "metadata": {},
   "outputs": [],
   "source": [
    "# Set device\n",
    "device = torch.device('cuda' if torch.cuda.is_available() else 'cpu')\n",
    "model.to(device)\n",
    "\n",
    "# Set optimizer and loss function\n",
    "optimizer = torch.optim.Adam(model.parameters(), lr=0.001)\n",
    "loss_func = torch.nn.BCELoss()  # Binary cross-entropy loss for binary classification\n",
    "\n",
    "\n",
    "\n"
   ]
  },
  {
   "cell_type": "code",
   "execution_count": null,
   "id": "fd14b47d-3b95-401b-9d76-245041e74ccb",
   "metadata": {},
   "outputs": [
    {
     "data": {
      "image/png": "[encoded data removed]",
      "text/plain": [
       "<Figure size 1000x500 with 1 Axes>"
      ]
     },
     "metadata": {},
     "output_type": "display_data"
    }
   ],
   "source": [
    "# Initialize the plot\n",
    "plt.figure(figsize=(10, 5))\n",
    "\n",
    "loss_history = []  # to store loss values\n",
    "time_history = []  # to store training time per epoch\n",
    "\n",
    "epochs = 10\n",
    "for epoch in range(epochs):\n",
    "    model.train()\n",
    "    total_loss = 0\n",
    "    start_time = time.time()  # Start time for the epoch\n",
    "\n",
    "    for batch_idx, (batch_data, batch_labels) in enumerate(train_generator):\n",
    "        # Convert data to tensor and send to device\n",
    "        batch_data = torch.tensor(batch_data).permute(0, 3, 1, 2).float().to(device)\n",
    "        batch_labels = torch.tensor(batch_labels).float().to(device)\n",
    "\n",
    "        optimizer.zero_grad()\n",
    "        outputs = model(batch_data)\n",
    "        loss = loss_func(outputs.squeeze(), batch_labels)\n",
    "        loss.backward()\n",
    "        optimizer.step()\n",
    "\n",
    "        total_loss += loss.item()\n",
    "\n",
    "        # Real-time plot update\n",
    "        loss_history.append(loss.item())\n",
    "        plt.plot(loss_history, label='Training Loss' if batch_idx == 0 else \"\")\n",
    "        plt.title('Real-Time Loss Function Evolution')\n",
    "        plt.xlabel('Iteration')\n",
    "        plt.ylabel('Loss')\n",
    "        plt.legend()\n",
    "        clear_output(wait=True)\n",
    "        display(plt.gcf())\n",
    "\n",
    "    plt.clf()  # Clear the figure to prevent overlapping of old plots\n",
    "\n",
    "    # Calculate and store epoch duration\n",
    "    epoch_duration = time.time() - start_time\n",
    "    time_history.append(epoch_duration)\n",
    "\n",
    "    average_loss = total_loss / len(train_generator)\n",
    "    print(f\"Epoch {epoch+1}/{epochs}, Average Loss: {average_loss:.4f}, Time: {epoch_duration:.2f} sec\")\n",
    "\n",
    "plt.close()  # Close the plot display\n",
    "\n",
    "# Optionally, plot the total training time over epochs\n",
    "plt.figure(figsize=(10, 5))\n",
    "plt.plot(time_history, marker='o', linestyle='-')\n",
    "plt.title('Training Time per Epoch')\n",
    "plt.xlabel('Epoch')\n",
    "plt.ylabel('Time (seconds)')\n",
    "plt.grid(True)\n",
    "plt.show()"
   ]
  },
  {
   "cell_type": "code",
   "execution_count": null,
   "id": "d57cf106-f862-48d5-a29a-f2031a3f633d",
   "metadata": {},
   "outputs": [],
   "source": [
    "# Initialize the plot\n",
    "plt.figure(figsize=(10, 5))\n",
    "\n",
    "loss_history = []  # to store loss values\n",
    "time_history = []  # to store training time per epoch\n",
    "\n",
    "epochs = 1\n",
    "for epoch in range(epochs):\n",
    "    model.train()\n",
    "    total_loss = 0\n",
    "    start_time = time.time()  # Start time for the epoch\n",
    "\n",
    "    for batch_idx, (batch_data, batch_labels) in enumerate(train_generator):\n",
    "        # Convert data to tensor and send to device\n",
    "        batch_data = torch.tensor(batch_data).permute(0, 3, 1, 2).float().to(device)\n",
    "        batch_labels = torch.tensor(batch_labels).float().to(device)\n",
    "\n",
    "        optimizer.zero_grad()\n",
    "        outputs = model(batch_data)\n",
    "        loss = loss_func(outputs.squeeze(), batch_labels)\n",
    "        loss.backward()\n",
    "        optimizer.step()\n",
    "\n",
    "        total_loss += loss.item()\n",
    "\n",
    "        # Real-time plot update\n",
    "        loss_history.append(loss.item())\n",
    "        plt.plot(loss_history, label='Training Loss' if batch_idx == 0 else \"\")\n",
    "        plt.title('Real-Time Loss Function Evolution')\n",
    "        plt.xlabel('Iteration')\n",
    "        plt.ylabel('Loss')\n",
    "        plt.legend()\n",
    "        clear_output(wait=True)\n",
    "        display(plt.gcf())\n",
    "\n",
    "    plt.clf()  # Clear the figure to prevent overlapping of old plots\n",
    "\n",
    "    # Calculate and store epoch duration\n",
    "    epoch_duration = time.time() - start_time\n",
    "    time_history.append(epoch_duration)\n",
    "\n",
    "    average_loss = total_loss / len(train_generator)\n",
    "    print(f\"Epoch {epoch+1}/{epochs}, Average Loss: {average_loss:.4f}, Time: {epoch_duration:.2f} sec\")\n",
    "\n",
    "plt.close()  # Close the plot display\n",
    "\n",
    "# Optionally, plot the total training time over epochs\n",
    "plt.figure(figsize=(10, 5))\n",
    "plt.plot(time_history, marker='o', linestyle='-')\n",
    "plt.title('Training Time per Epoch')\n",
    "plt.xlabel('Epoch')\n",
    "plt.ylabel('Time (seconds)')\n",
    "plt.grid(True)\n",
    "plt.show()"
   ]
  },
  {
   "cell_type": "code",
   "execution_count": null,
   "id": "7a587123-638c-4655-a234-2420a9e01f1e",
   "metadata": {},
   "outputs": [],
   "source": []
  },
  {
   "cell_type": "code",
   "execution_count": null,
   "id": "a62aaa0e-33ce-4c46-a9cf-4d82805b1a6b",
   "metadata": {},
   "outputs": [],
   "source": []
  },
  {
   "cell_type": "code",
   "execution_count": null,
   "id": "9ae3a844-39dc-4f83-8eec-3b1a67adf6ca",
   "metadata": {},
   "outputs": [],
   "source": []
  }
 ],
 "metadata": {
  "kernelspec": {
   "display_name": "penn_qnn_env_Kernelpython3,10",
   "language": "python",
   "name": "knlpennqnn"
  },
  "language_info": {
   "codemirror_mode": {
    "name": "ipython",
    "version": 3
   },
   "file_extension": ".py",
   "mimetype": "text/x-python",
   "name": "python",
   "nbconvert_exporter": "python",
   "pygments_lexer": "ipython3",
   "version": "3.10.9"
  }
 },
 "nbformat": 4,
 "nbformat_minor": 5
}
