{
 "cells": [
  {
   "cell_type": "code",
   "execution_count": 1,
   "id": "dbc89d7e-1752-4eca-af06-2d0e8136e713",
   "metadata": {},
   "outputs": [],
   "source": [
    "import pennylane as qml"
   ]
  },
  {
   "cell_type": "code",
   "execution_count": 2,
   "id": "05fd8f4d-72c2-47b7-b5a5-a11356919c18",
   "metadata": {},
   "outputs": [],
   "source": [
    "from qiskit_machine_learning.circuit.library import QNNCircuit\n",
    "from qiskit_machine_learning.connectors import TorchConnector"
   ]
  },
  {
   "cell_type": "code",
   "execution_count": 3,
   "id": "8dc1bb14-fb78-40fb-9828-17754fc29507",
   "metadata": {},
   "outputs": [],
   "source": [
    "import numpy as np\n",
    "from qiskit import  QuantumCircuit, transpile\n",
    "\n",
    "from qiskit.circuit import ParameterVector\n",
    "from torchvision.datasets import MNIST\n",
    "\n",
    "from qiskit_aer import AerSimulator\n",
    "#from qiskit.utils import QuantumInstance\n",
    "from sklearn.preprocessing import MinMaxScaler\n",
    "from sklearn.decomposition import PCA"
   ]
  },
  {
   "cell_type": "code",
   "execution_count": 4,
   "id": "6488e794-1e42-468d-b0f9-1db7944f897c",
   "metadata": {},
   "outputs": [],
   "source": [
    "from qiskit_aer import Aer"
   ]
  },
  {
   "cell_type": "code",
   "execution_count": 5,
   "id": "fbc17e23-ce21-4468-8ffe-cce3d219793f",
   "metadata": {},
   "outputs": [],
   "source": [
    "from torchvision import datasets, transforms"
   ]
  },
  {
   "cell_type": "code",
   "execution_count": 6,
   "id": "a451d6ae-da43-43ec-872f-1b1d2c5f75bc",
   "metadata": {},
   "outputs": [],
   "source": [
    "import torch\n",
    "from torch import nn\n",
    "from qiskit import assemble, QuantumCircuit\n",
    "from qiskit.circuit import Parameter, ParameterVector\n",
    "from qiskit_algorithms.optimizers import COBYLA\n",
    "import qiskit_algorithms\n",
    "import matplotlib.pyplot as plt"
   ]
  },
  {
   "cell_type": "code",
   "execution_count": 7,
   "id": "d7e60177-7647-4367-9e5d-6deae4e407a2",
   "metadata": {},
   "outputs": [],
   "source": [
    "import tensorflow as tf"
   ]
  },
  {
   "cell_type": "code",
   "execution_count": 8,
   "id": "56e710b6-e0a8-4582-98a8-ed4ac8fc582e",
   "metadata": {},
   "outputs": [],
   "source": [
    "from pennylane import numpy as p_np\n",
    "\n",
    "from pennylane.templates.state_preparations import MottonenStatePreparation\n",
    "from pennylane.templates.layers import StronglyEntanglingLayers"
   ]
  },
  {
   "cell_type": "code",
   "execution_count": null,
   "id": "f6b990da-5d7a-4529-ad8d-341b5041cb17",
   "metadata": {},
   "outputs": [],
   "source": []
  }
 ],
 "metadata": {
  "kernelspec": {
   "display_name": "penn_qnn_env_Kernelpython3,10",
   "language": "python",
   "name": "knlpennqnn"
  },
  "language_info": {
   "codemirror_mode": {
    "name": "ipython",
    "version": 3
   },
   "file_extension": ".py",
   "mimetype": "text/x-python",
   "name": "python",
   "nbconvert_exporter": "python",
   "pygments_lexer": "ipython3",
   "version": "3.10.9"
  }
 },
 "nbformat": 4,
 "nbformat_minor": 5
}
